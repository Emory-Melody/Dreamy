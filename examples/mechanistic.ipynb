{
 "cells": [
  {
   "cell_type": "code",
   "execution_count": null,
   "metadata": {},
   "outputs": [],
   "source": [
    "import os\n",
    "os.chdir(\"..\")\n",
    "import torch\n",
    "from epilearn.models.Temporal.SIR import SIR, SEIR, SIS\n",
    "from epilearn.models.SpatialTemporal.NetworkSIR import NetSIR\n",
    "from epilearn import visualize"
   ]
  },
  {
   "cell_type": "code",
   "execution_count": null,
   "metadata": {},
   "outputs": [],
   "source": [
    "data = torch.zeros(3)\n",
    "# data.data[0] = torch.randint(1000, 10000, (1,))\n",
    "# data.data[1] = torch.randint(100, 1000, (1,))\n",
    "# data.data[2] = torch.randint(10, 100, (1,))\n",
    "data.data[0] = 3416\n",
    "data.data[1] = 210\n",
    "data.data[2] = 65\n",
    "data = data.float()\n",
    "print(data)\n",
    "model = SIR(horizon=100, infection_rate=0.1, recovery_rate=0.0384) # infection_rate, recover_rate, fixed_population"
   ]
  },
  {
   "cell_type": "code",
   "execution_count": null,
   "metadata": {},
   "outputs": [],
   "source": [
    "preds = model(data, steps = None) # steps = None or horizon\n",
    "visualize.plot_series(preds, columns = ['suspected', 'infected', 'recovered'])"
   ]
  },
  {
   "cell_type": "code",
   "execution_count": null,
   "metadata": {},
   "outputs": [],
   "source": []
  }
 ],
 "metadata": {
  "kernelspec": {
   "display_name": "epilearn",
   "language": "python",
   "name": "python3"
  },
  "language_info": {
   "codemirror_mode": {
    "name": "ipython",
    "version": 3
   },
   "file_extension": ".py",
   "mimetype": "text/x-python",
   "name": "python",
   "nbconvert_exporter": "python",
   "pygments_lexer": "ipython3",
   "version": "3.9.19"
  }
 },
 "nbformat": 4,
 "nbformat_minor": 2
}
