{
 "cells": [
  {
   "cell_type": "code",
   "execution_count": 4,
   "metadata": {
    "ExecuteTime": {
     "end_time": "2024-04-26T07:45:03.489433700Z",
     "start_time": "2024-04-26T07:45:03.425571500Z"
    }
   },
   "outputs": [
    {
     "ename": "ImportError",
     "evalue": "cannot import name 'GCN' from partially initialized module 'dreamy.models.Spatial' (most likely due to a circular import) (E:\\BaiduSyncdisk\\Project\\Dreamy\\dreamy\\models\\Spatial\\__init__.py)",
     "output_type": "error",
     "traceback": [
      "\u001B[1;31m---------------------------------------------------------------------------\u001B[0m",
      "\u001B[1;31mImportError\u001B[0m                               Traceback (most recent call last)",
      "Cell \u001B[1;32mIn[4], line 4\u001B[0m\n\u001B[0;32m      2\u001B[0m os\u001B[38;5;241m.\u001B[39mchdir(\u001B[38;5;124m\"\u001B[39m\u001B[38;5;124m..\u001B[39m\u001B[38;5;124m\"\u001B[39m)\n\u001B[0;32m      3\u001B[0m \u001B[38;5;28;01mimport\u001B[39;00m \u001B[38;5;21;01mtorch\u001B[39;00m\n\u001B[1;32m----> 4\u001B[0m \u001B[38;5;28;01mimport\u001B[39;00m \u001B[38;5;21;01mdreamy\u001B[39;00m\n\u001B[0;32m      5\u001B[0m \u001B[38;5;28;01mfrom\u001B[39;00m \u001B[38;5;21;01mdreamy\u001B[39;00m\u001B[38;5;21;01m.\u001B[39;00m\u001B[38;5;21;01mdata\u001B[39;00m \u001B[38;5;28;01mimport\u001B[39;00m UniversalDataset\n\u001B[0;32m      6\u001B[0m \u001B[38;5;28;01mfrom\u001B[39;00m \u001B[38;5;21;01mdreamy\u001B[39;00m\u001B[38;5;21;01m.\u001B[39;00m\u001B[38;5;21;01mmodels\u001B[39;00m\u001B[38;5;21;01m.\u001B[39;00m\u001B[38;5;21;01mSpatial\u001B[39;00m \u001B[38;5;28;01mimport\u001B[39;00m GCN\n",
      "File \u001B[1;32mE:\\BaiduSyncdisk\\Project\\Dreamy\\dreamy\\__init__.py:1\u001B[0m\n\u001B[1;32m----> 1\u001B[0m \u001B[38;5;28;01mfrom\u001B[39;00m \u001B[38;5;21;01m.\u001B[39;00m \u001B[38;5;28;01mimport\u001B[39;00m (\n\u001B[0;32m      2\u001B[0m     data,\n\u001B[0;32m      3\u001B[0m     models,\n\u001B[0;32m      4\u001B[0m     transforms,\n\u001B[0;32m      5\u001B[0m     utils,\n\u001B[0;32m      6\u001B[0m     visualize\n\u001B[0;32m      7\u001B[0m )\n",
      "File \u001B[1;32mE:\\BaiduSyncdisk\\Project\\Dreamy\\dreamy\\models\\__init__.py:1\u001B[0m\n\u001B[1;32m----> 1\u001B[0m \u001B[38;5;28;01mfrom\u001B[39;00m \u001B[38;5;21;01m.\u001B[39;00m \u001B[38;5;28;01mimport\u001B[39;00m Spatial, Temporal, SpatialTemporal, General\n",
      "File \u001B[1;32mE:\\BaiduSyncdisk\\Project\\Dreamy\\dreamy\\models\\Spatial\\__init__.py:1\u001B[0m\n\u001B[1;32m----> 1\u001B[0m \u001B[38;5;28;01mfrom\u001B[39;00m \u001B[38;5;21;01m.\u001B[39;00m \u001B[38;5;28;01mimport\u001B[39;00m base, GCN, GAT, SAGE\n",
      "\u001B[1;31mImportError\u001B[0m: cannot import name 'GCN' from partially initialized module 'dreamy.models.Spatial' (most likely due to a circular import) (E:\\BaiduSyncdisk\\Project\\Dreamy\\dreamy\\models\\Spatial\\__init__.py)"
     ]
    }
   ],
   "source": [
    "import os\n",
    "os.chdir(\"..\")\n",
    "import torch\n",
    "import epilearn\n",
    "from epilearn.data import UniversalDataset\n",
    "from epilearn.models.Spatial import GCN"
   ]
  },
  {
   "cell_type": "code",
   "execution_count": 3,
   "metadata": {
    "ExecuteTime": {
     "end_time": "2024-04-26T07:41:58.332663500Z",
     "start_time": "2024-04-26T07:41:58.281305100Z"
    }
   },
   "outputs": [
    {
     "ename": "NameError",
     "evalue": "name 'UniversalDataset' is not defined",
     "output_type": "error",
     "traceback": [
      "\u001B[1;31m---------------------------------------------------------------------------\u001B[0m",
      "\u001B[1;31mNameError\u001B[0m                                 Traceback (most recent call last)",
      "Cell \u001B[1;32mIn[3], line 1\u001B[0m\n\u001B[1;32m----> 1\u001B[0m dataset \u001B[38;5;241m=\u001B[39m \u001B[43mUniversalDataset\u001B[49m()\n\u001B[0;32m      2\u001B[0m dataset\u001B[38;5;241m.\u001B[39mload_toy_dataset()\n",
      "\u001B[1;31mNameError\u001B[0m: name 'UniversalDataset' is not defined"
     ]
    }
   ],
   "source": [
    "dataset = UniversalDataset()\n",
    "dataset.load_toy_dataset()"
   ]
  },
  {
   "cell_type": "code",
   "execution_count": 3,
   "metadata": {},
   "outputs": [
    {
     "name": "stdout",
     "output_type": "stream",
     "text": [
      "torch.Size([539, 47, 4])\n",
      "torch.Size([539, 47])\n",
      "torch.Size([539, 47, 3])\n",
      "torch.Size([2, 2189])\n",
      "torch.Size([2189])\n"
     ]
    }
   ],
   "source": [
    "print(dataset.x.shape)\n",
    "print(dataset.y.shape)\n",
    "print(dataset.states.shape)\n",
    "print(dataset.edge_index.shape)\n",
    "print(dataset.edge_weight.shape)\n"
   ]
  },
  {
   "cell_type": "markdown",
   "metadata": {},
   "source": [
    "## For temporal data"
   ]
  },
  {
   "cell_type": "code",
   "execution_count": 4,
   "metadata": {},
   "outputs": [
    {
     "name": "stdout",
     "output_type": "stream",
     "text": [
      "torch.Size([539, 4])\n",
      "torch.Size([539])\n"
     ]
    }
   ],
   "source": [
    "temporal_x = dataset.x[:,0,:]\n",
    "temporal_y = dataset.x[:,0,0]\n",
    "print(temporal_x.shape)\n",
    "print(temporal_y.shape)"
   ]
  },
  {
   "cell_type": "code",
   "execution_count": 6,
   "metadata": {},
   "outputs": [
    {
     "name": "stdout",
     "output_type": "stream",
     "text": [
      "torch.Size([525, 10, 4])\n",
      "torch.Size([525, 5])\n"
     ]
    }
   ],
   "source": [
    "gen_data, target = dataset.generate_dataset(X = temporal_x, Y = temporal_y, lookback_window_size = 10, horizon_size = 5, permute = False)\n",
    "print(gen_data.shape)\n",
    "print(target.shape)"
   ]
  },
  {
   "cell_type": "code",
   "execution_count": null,
   "metadata": {},
   "outputs": [],
   "source": []
  }
 ],
 "metadata": {
  "kernelspec": {
   "display_name": "dreamy",
   "language": "python",
   "name": "python3"
  },
  "language_info": {
   "codemirror_mode": {
    "name": "ipython",
    "version": 3
   },
   "file_extension": ".py",
   "mimetype": "text/x-python",
   "name": "python",
   "nbconvert_exporter": "python",
   "pygments_lexer": "ipython3",
   "version": "3.9.19"
  }
 },
 "nbformat": 4,
 "nbformat_minor": 2
}
