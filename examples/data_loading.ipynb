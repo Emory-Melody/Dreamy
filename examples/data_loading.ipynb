{
 "cells": [
  {
   "cell_type": "code",
   "execution_count": 1,
   "metadata": {
    "ExecuteTime": {
     "end_time": "2024-04-26T07:45:03.489433700Z",
     "start_time": "2024-04-26T07:45:03.425571500Z"
    }
   },
   "outputs": [],
   "source": [
    "import os\n",
    "os.chdir(\"..\")\n",
    "import torch\n",
    "import epilearn\n",
    "from epilearn.data import UniversalDataset\n",
    "from epilearn.models.Spatial import GCN"
   ]
  },
  {
   "cell_type": "code",
   "execution_count": 2,
   "metadata": {
    "ExecuteTime": {
     "end_time": "2024-04-26T07:41:58.332663500Z",
     "start_time": "2024-04-26T07:41:58.281305100Z"
    }
   },
   "outputs": [],
   "source": [
    "dataset = UniversalDataset()\n",
    "dataset.load_toy_dataset()"
   ]
  },
  {
   "cell_type": "code",
   "execution_count": 3,
   "metadata": {},
   "outputs": [
    {
     "name": "stdout",
     "output_type": "stream",
     "text": [
      "torch.Size([539, 47, 4])\n",
      "torch.Size([539, 47])\n",
      "torch.Size([539, 47, 3])\n",
      "torch.Size([2, 2189])\n",
      "torch.Size([2189])\n"
     ]
    }
   ],
   "source": [
    "print(dataset.x.shape)\n",
    "print(dataset.y.shape)\n",
    "print(dataset.states.shape)\n",
    "print(dataset.edge_index.shape)\n",
    "print(dataset.edge_weight.shape)\n"
   ]
  }
 ],
 "metadata": {
  "kernelspec": {
   "display_name": "dreamy",
   "language": "python",
   "name": "python3"
  },
  "language_info": {
   "codemirror_mode": {
    "name": "ipython",
    "version": 3
   },
   "file_extension": ".py",
   "mimetype": "text/x-python",
   "name": "python",
   "nbconvert_exporter": "python",
   "pygments_lexer": "ipython3",
   "version": "3.9.19"
  }
 },
 "nbformat": 4,
 "nbformat_minor": 2
}
