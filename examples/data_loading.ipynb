{
 "cells": [
  {
   "cell_type": "code",
   "execution_count": 1,
   "metadata": {},
   "outputs": [],
   "source": [
    "import os\n",
    "os.chdir(\"..\")\n",
    "import torch\n",
    "import dreamy\n",
    "from dreamy.data import UniversalDataset\n",
    "from dreamy.models.Spatial import GCN"
   ]
  },
  {
   "cell_type": "code",
   "execution_count": 2,
   "metadata": {},
   "outputs": [],
   "source": [
    "dataset = UniversalDataset()\n",
    "dataset.load_toy_dataset()"
   ]
  },
  {
   "cell_type": "code",
   "execution_count": 3,
   "metadata": {},
   "outputs": [
    {
     "name": "stdout",
     "output_type": "stream",
     "text": [
      "torch.Size([539, 47, 4])\n",
      "torch.Size([539, 47])\n",
      "torch.Size([539, 47, 3])\n",
      "torch.Size([2, 2189])\n",
      "torch.Size([2189])\n"
     ]
    }
   ],
   "source": [
    "print(dataset.x.shape)\n",
    "print(dataset.y.shape)\n",
    "print(dataset.states.shape)\n",
    "print(dataset.edge_index.shape)\n",
    "print(dataset.edge_weight.shape)\n"
   ]
  },
  {
   "cell_type": "markdown",
   "metadata": {},
   "source": [
    "## For temporal data"
   ]
  },
  {
   "cell_type": "code",
   "execution_count": 4,
   "metadata": {},
   "outputs": [
    {
     "name": "stdout",
     "output_type": "stream",
     "text": [
      "torch.Size([539, 4])\n",
      "torch.Size([539])\n"
     ]
    }
   ],
   "source": [
    "temporal_x = dataset.x[:,0,:]\n",
    "temporal_y = dataset.x[:,0,0]\n",
    "print(temporal_x.shape)\n",
    "print(temporal_y.shape)"
   ]
  },
  {
   "cell_type": "code",
   "execution_count": 6,
   "metadata": {},
   "outputs": [
    {
     "name": "stdout",
     "output_type": "stream",
     "text": [
      "torch.Size([525, 10, 4])\n",
      "torch.Size([525, 5])\n"
     ]
    }
   ],
   "source": [
    "gen_data, target = dataset.generate_dataset(X = temporal_x, Y = temporal_y, lookback_window_size = 10, horizon_size = 5, permute = False)\n",
    "print(gen_data.shape)\n",
    "print(target.shape)"
   ]
  },
  {
   "cell_type": "code",
   "execution_count": null,
   "metadata": {},
   "outputs": [],
   "source": []
  }
 ],
 "metadata": {
  "kernelspec": {
   "display_name": "dreamy",
   "language": "python",
   "name": "python3"
  },
  "language_info": {
   "codemirror_mode": {
    "name": "ipython",
    "version": 3
   },
   "file_extension": ".py",
   "mimetype": "text/x-python",
   "name": "python",
   "nbconvert_exporter": "python",
   "pygments_lexer": "ipython3",
   "version": "3.9.19"
  }
 },
 "nbformat": 4,
 "nbformat_minor": 2
}
