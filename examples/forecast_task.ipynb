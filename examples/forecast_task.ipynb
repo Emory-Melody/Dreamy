{
 "cells": [
  {
   "cell_type": "code",
   "execution_count": 1,
   "metadata": {},
   "outputs": [],
   "source": [
    "import torch\n",
    "import os\n",
    "import matplotlib.pyplot as plt\n",
    "os.chdir(\"..\")\n",
    "\n",
    "from epilearn.models.SpatialTemporal.STGCN import STGCN\n",
    "from epilearn.models.SpatialTemporal.MepoGNN import MepoGNN\n",
    "from epilearn.models.SpatialTemporal.GraphLSTM import GraphLSTM\n",
    "from epilearn.models.SpatialTemporal.EpiGNN import EpiGNN\n",
    "from epilearn.models.SpatialTemporal.DASTGN import DASTGN\n",
    "from epilearn.models.SpatialTemporal.ColaGNN import ColaGNN\n",
    "from epilearn.models.SpatialTemporal.EpiColaGNN import EpiColaGNN\n",
    "from epilearn.models.SpatialTemporal.CNNRNN_Res import CNNRNN_Res\n",
    "from epilearn.models.SpatialTemporal.ATMGNN import ATMGNN\n",
    "\n",
    "from epilearn.data import UniversalDataset\n",
    "from epilearn.utils import utils, transforms\n",
    "from epilearn.tasks.forecast import Forecast"
   ]
  },
  {
   "cell_type": "markdown",
   "metadata": {},
   "source": [
    "### Configs"
   ]
  },
  {
   "cell_type": "code",
   "execution_count": 2,
   "metadata": {},
   "outputs": [],
   "source": [
    "# initial settings\n",
    "device = torch.device('cpu')\n",
    "torch.manual_seed(7)\n",
    "\n",
    "lookback = 12 # inputs size\n",
    "horizon = 3 # predicts size\n",
    "\n",
    "# permutation is True when using STGCN\n",
    "permute = True\n",
    "\n",
    "epochs = 50 # training epochs\n",
    "batch_size = 50 # training batch size"
   ]
  },
  {
   "cell_type": "markdown",
   "metadata": {},
   "source": [
    "### Initialize dataset"
   ]
  },
  {
   "cell_type": "code",
   "execution_count": 3,
   "metadata": {},
   "outputs": [],
   "source": [
    "# load toy dataset\n",
    "dataset = UniversalDataset()\n",
    "dataset.load_toy_dataset()"
   ]
  },
  {
   "cell_type": "markdown",
   "metadata": {},
   "source": [
    "### Initialize model and task"
   ]
  },
  {
   "cell_type": "code",
   "execution_count": 4,
   "metadata": {},
   "outputs": [],
   "source": [
    "task = Forecast(prototype=CNNRNN_Res, dataset=None, lookback=lookback, horizon=horizon, device='cpu')"
   ]
  },
  {
   "cell_type": "markdown",
   "metadata": {},
   "source": [
    "### Add transforms to dataset"
   ]
  },
  {
   "cell_type": "code",
   "execution_count": null,
   "metadata": {},
   "outputs": [],
   "source": [
    "# transforms = transforms.Compose({\"features\":[], 'graph': [], 'states': []})"
   ]
  },
  {
   "cell_type": "markdown",
   "metadata": {},
   "source": [
    "### Train Model"
   ]
  },
  {
   "cell_type": "code",
   "execution_count": 5,
   "metadata": {},
   "outputs": [
    {
     "name": "stderr",
     "output_type": "stream",
     "text": [
      " 80%|████████  | 4/5 [00:00<00:00, 16.35it/s]"
     ]
    },
    {
     "name": "stdout",
     "output_type": "stream",
     "text": [
      "######### epoch:0\n",
      "Training loss: 0.7122649031300698\n",
      "Validation loss: 0.6276538968086243\n"
     ]
    },
    {
     "name": "stderr",
     "output_type": "stream",
     "text": [
      "100%|██████████| 5/5 [00:00<00:00, 16.77it/s]"
     ]
    },
    {
     "name": "stdout",
     "output_type": "stream",
     "text": [
      "\n",
      "\n",
      "Final Training loss: 0.4646987828516191\n",
      "Final Validation loss: 0.4924061596393585\n",
      "Test MAE: 224.5708770751953\n"
     ]
    },
    {
     "name": "stderr",
     "output_type": "stream",
     "text": [
      "\n"
     ]
    }
   ],
   "source": [
    "config = None\n",
    "# for epicolagnn, loss='epi_cola', else loss='mse\n",
    "# for STGCN, permute_dataset=True\n",
    "model = task.train_model(dataset=dataset, config=config, loss='mse', epochs=5, permute_dataset=False) # instead of config, we can also dircetly input some parameters"
   ]
  },
  {
   "cell_type": "markdown",
   "metadata": {},
   "source": [
    "### Evaluate model"
   ]
  },
  {
   "cell_type": "code",
   "execution_count": null,
   "metadata": {},
   "outputs": [],
   "source": [
    "# evaluation = task.evaluate_model(dataset, config=config)"
   ]
  }
 ],
 "metadata": {
  "kernelspec": {
   "display_name": "dreamy",
   "language": "python",
   "name": "python3"
  },
  "language_info": {
   "codemirror_mode": {
    "name": "ipython",
    "version": 3
   },
   "file_extension": ".py",
   "mimetype": "text/x-python",
   "name": "python",
   "nbconvert_exporter": "python",
   "pygments_lexer": "ipython3",
   "version": "3.9.19"
  }
 },
 "nbformat": 4,
 "nbformat_minor": 2
}
