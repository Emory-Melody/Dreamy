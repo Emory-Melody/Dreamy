{
 "cells": [
  {
   "cell_type": "code",
   "execution_count": 1,
   "metadata": {},
   "outputs": [],
   "source": [
    "import torch\n",
    "import os\n",
    "import matplotlib.pyplot as plt\n",
    "os.chdir(\"..\")\n",
    "\n",
    "from epilearn.models.SpatialTemporal.STGCN import STGCN\n",
    "from epilearn.models.SpatialTemporal.MepoGNN import MepoGNN\n",
    "from epilearn.models.SpatialTemporal.EpiGNN import EpiGNN\n",
    "from epilearn.models.SpatialTemporal.DASTGN import DASTGN\n",
    "from epilearn.models.SpatialTemporal.ColaGNN import ColaGNN\n",
    "from epilearn.models.SpatialTemporal.EpiColaGNN import EpiColaGNN\n",
    "from epilearn.models.SpatialTemporal.CNNRNN_Res import CNNRNN_Res\n",
    "from epilearn.models.SpatialTemporal.ATMGNN import MPNN_LSTM, ATMGNN\n",
    "\n",
    "from epilearn.models.Temporal.Dlinear import DlinearModel\n",
    "from epilearn.models.Temporal.LSTM import LSTMModel\n",
    "from epilearn.models.Temporal.GRU import GRUModel\n",
    "\n",
    "from epilearn.data import UniversalDataset\n",
    "from epilearn.utils import utils, transforms\n",
    "from epilearn.tasks.forecast import Forecast"
   ]
  },
  {
   "cell_type": "markdown",
   "metadata": {},
   "source": [
    "### Configs"
   ]
  },
  {
   "cell_type": "code",
   "execution_count": 2,
   "metadata": {},
   "outputs": [],
   "source": [
    "# initial settings\n",
    "device = torch.device('mps')\n",
    "torch.manual_seed(7)\n",
    "\n",
    "lookback = 12 # inputs size\n",
    "horizon = 3 # predicts size\n",
    "\n",
    "# permutation is True when using STGCN\n",
    "permute = False\n",
    "\n",
    "epochs = 10 # training epochs\n",
    "batch_size = 50 # training batch size"
   ]
  },
  {
   "cell_type": "markdown",
   "metadata": {},
   "source": [
    "### Initialize dataset"
   ]
  },
  {
   "cell_type": "code",
   "execution_count": 3,
   "metadata": {},
   "outputs": [],
   "source": [
    "# load toy dataset\n",
    "dataset = UniversalDataset()\n",
    "dataset.load_toy_dataset()"
   ]
  },
  {
   "cell_type": "markdown",
   "metadata": {},
   "source": [
    "### Initialize model and task\n",
    "* prototype supports all models imported at the first cell"
   ]
  },
  {
   "cell_type": "code",
   "execution_count": 4,
   "metadata": {},
   "outputs": [],
   "source": [
    "task = Forecast(prototype=EpiGNN, dataset=None, lookback=lookback, horizon=horizon)"
   ]
  },
  {
   "cell_type": "markdown",
   "metadata": {},
   "source": [
    "### Add transformations to dataset"
   ]
  },
  {
   "cell_type": "code",
   "execution_count": 5,
   "metadata": {},
   "outputs": [],
   "source": [
    "transformation = transforms.Compose({\"features\":[transforms.normalize_feat()], \n",
    "                                 'graph': [transforms.normalize_adj()], \n",
    "                                 'dynamic_graph': [transforms.normalize_adj()], \n",
    "                                 'states': []\n",
    "                                 })\n",
    "dataset.transforms = transformation"
   ]
  },
  {
   "cell_type": "markdown",
   "metadata": {},
   "source": [
    "### Train Model\n",
    "* for epicolagnn, loss='epi_cola' else loss='mse\n",
    "* for STGCN, permute_dataset=True"
   ]
  },
  {
   "cell_type": "code",
   "execution_count": 6,
   "metadata": {},
   "outputs": [
    {
     "name": "stdout",
     "output_type": "stream",
     "text": [
      "spatial-temporal model loaded!\n"
     ]
    },
    {
     "name": "stderr",
     "output_type": "stream",
     "text": [
      "100%|██████████| 5/5 [00:03<00:00,  1.54it/s]"
     ]
    },
    {
     "name": "stdout",
     "output_type": "stream",
     "text": [
      "\n",
      "\n",
      "Final Training loss: 9522.398098853326\n",
      "Final Validation loss: 23821.14453125\n",
      "Test MSE: 299950.25\n",
      "Test MAE: 190.66786193847656\n",
      "Test RMSE: 547.6771240234375\n"
     ]
    },
    {
     "name": "stderr",
     "output_type": "stream",
     "text": [
      "\n"
     ]
    }
   ],
   "source": [
    "config = None\n",
    "result = task.train_model(dataset=dataset, config=config, loss='mse', epochs=5, permute_dataset=permute, device=device) # instead of config, we can also dircetly input some parameters"
   ]
  },
  {
   "cell_type": "markdown",
   "metadata": {},
   "source": [
    "### Evaluate model"
   ]
  },
  {
   "cell_type": "code",
   "execution_count": 7,
   "metadata": {},
   "outputs": [
    {
     "name": "stdout",
     "output_type": "stream",
     "text": [
      "Test MSE: 299950.25\n",
      "Test MAE: 190.66786193847656\n",
      "Test RMSE: 547.6771240234375\n"
     ]
    }
   ],
   "source": [
    "evaluation = task.evaluate_model()"
   ]
  },
  {
   "cell_type": "markdown",
   "metadata": {},
   "source": [
    "### Try more datasets"
   ]
  },
  {
   "cell_type": "code",
   "execution_count": 8,
   "metadata": {},
   "outputs": [
    {
     "name": "stderr",
     "output_type": "stream",
     "text": [
      "/var/folders/f_/9z5j7mn94d3bfnmns3bxbszr0000gn/T/ipykernel_12673/1224966375.py:3: FutureWarning: You are using `torch.load` with `weights_only=False` (the current default value), which uses the default pickle module implicitly. It is possible to construct malicious pickle data which will execute arbitrary code during unpickling (See https://github.com/pytorch/pytorch/blob/main/SECURITY.md#untrusted-models for more details). In a future release, the default value for `weights_only` will be flipped to `True`. This limits the functions that could be executed during unpickling. Arbitrary objects will no longer be allowed to be loaded via this mode unless they are explicitly allowlisted by the user via `torch.serialization.add_safe_globals`. We recommend you start setting `weights_only=True` for any use case where you don't have full control of the loaded file. Please open an issue on GitHub for any issues related to this experimental feature.\n",
      "  raw_data = torch.load(\"datasets/covid_static.pt\")\n"
     ]
    }
   ],
   "source": [
    "# load other datasets\n",
    "datasets = [dataset]\n",
    "raw_data = torch.load(\"datasets/covid_static.pt\")\n",
    "for name in ['Brazil', 'Austria', 'China']:\n",
    "    data = raw_data[name]\n",
    "    dataset = UniversalDataset()\n",
    "    dataset.x = data['features']\n",
    "    dataset.y = data['features'][:,:,0]\n",
    "    dataset.graph = data['graph']\n",
    "    dataset.states = data['features']\n",
    "    dataset.dynamic_graph = None\n",
    "\n",
    "    dataset.transforms = transformation\n",
    "    datasets.append(dataset)\n"
   ]
  },
  {
   "cell_type": "code",
   "execution_count": 9,
   "metadata": {},
   "outputs": [
    {
     "name": "stdout",
     "output_type": "stream",
     "text": [
      "dataset 0\n",
      "spatial-temporal model loaded!\n"
     ]
    },
    {
     "name": "stderr",
     "output_type": "stream",
     "text": [
      "100%|██████████| 50/50 [00:06<00:00,  7.67it/s]\n"
     ]
    },
    {
     "name": "stdout",
     "output_type": "stream",
     "text": [
      "\n",
      "\n",
      "Final Training loss: 8732.541434151786\n",
      "Final Validation loss: 25009.900390625\n",
      "Test MSE: 293662.21875\n",
      "Test MAE: 187.66256713867188\n",
      "Test RMSE: 541.9061279296875\n",
      "dataset 1\n",
      "spatial-temporal model loaded!\n"
     ]
    },
    {
     "name": "stderr",
     "output_type": "stream",
     "text": [
      "100%|██████████| 50/50 [00:02<00:00, 19.72it/s]\n"
     ]
    },
    {
     "name": "stdout",
     "output_type": "stream",
     "text": [
      "\n",
      "\n",
      "Final Training loss: 908052.6875\n",
      "Final Validation loss: 601284.0625\n",
      "Test MSE: 232661.734375\n",
      "Test MAE: 259.1087341308594\n",
      "Test RMSE: 482.3502197265625\n",
      "dataset 2\n",
      "spatial-temporal model loaded!\n"
     ]
    },
    {
     "name": "stderr",
     "output_type": "stream",
     "text": [
      "100%|██████████| 50/50 [00:02<00:00, 20.06it/s]\n"
     ]
    },
    {
     "name": "stdout",
     "output_type": "stream",
     "text": [
      "\n",
      "\n",
      "Final Training loss: 17236.51611328125\n",
      "Final Validation loss: 703.6200561523438\n",
      "Test MSE: 218.26226806640625\n",
      "Test MAE: 9.065763473510742\n",
      "Test RMSE: 14.773701667785645\n",
      "dataset 3\n",
      "spatial-temporal model loaded!\n"
     ]
    },
    {
     "name": "stderr",
     "output_type": "stream",
     "text": [
      "100%|██████████| 50/50 [00:01<00:00, 33.36it/s]\n"
     ]
    },
    {
     "name": "stdout",
     "output_type": "stream",
     "text": [
      "\n",
      "\n",
      "Final Training loss: 7147.6953125\n",
      "Final Validation loss: 48518.01953125\n",
      "Test MSE: 915881.4375\n",
      "Test MAE: 107.65332794189453\n",
      "Test RMSE: 957.0169677734375\n"
     ]
    }
   ],
   "source": [
    "for i, dataset in enumerate(datasets):\n",
    "    print(f\"dataset {i}\")\n",
    "    model = task.train_model(dataset=dataset, config=config, loss='mse', epochs=50, batch_size=50, permute_dataset=permute) # instead of config, we can also dircetly input some parameters"
   ]
  },
  {
   "cell_type": "markdown",
   "metadata": {},
   "source": [
    "### Try temporal models"
   ]
  },
  {
   "cell_type": "code",
   "execution_count": 10,
   "metadata": {},
   "outputs": [
    {
     "name": "stdout",
     "output_type": "stream",
     "text": [
      "region 0\n",
      "temporal model loaded!\n"
     ]
    },
    {
     "name": "stderr",
     "output_type": "stream",
     "text": [
      "100%|██████████| 50/50 [00:00<00:00, 151.10it/s]\n"
     ]
    },
    {
     "name": "stdout",
     "output_type": "stream",
     "text": [
      "\n",
      "\n",
      "Final Training loss: 5.020066738128662\n",
      "Final Validation loss: 9.171232223510742\n",
      "Test MSE: 15.183773040771484\n",
      "Test MAE: 2.93493390083313\n",
      "Test RMSE: 3.8966360092163086\n",
      "region 1\n",
      "temporal model loaded!\n"
     ]
    },
    {
     "name": "stderr",
     "output_type": "stream",
     "text": [
      "100%|██████████| 50/50 [00:00<00:00, 165.08it/s]\n"
     ]
    },
    {
     "name": "stdout",
     "output_type": "stream",
     "text": [
      "\n",
      "\n",
      "Final Training loss: 4.789176940917969\n",
      "Final Validation loss: 8.993369102478027\n",
      "Test MSE: 14.404995918273926\n",
      "Test MAE: 2.9321441650390625\n",
      "Test RMSE: 3.795391321182251\n",
      "region 2\n",
      "temporal model loaded!\n"
     ]
    },
    {
     "name": "stderr",
     "output_type": "stream",
     "text": [
      "100%|██████████| 50/50 [00:00<00:00, 147.28it/s]\n"
     ]
    },
    {
     "name": "stdout",
     "output_type": "stream",
     "text": [
      "\n",
      "\n",
      "Final Training loss: 4.766205787658691\n",
      "Final Validation loss: 8.980277061462402\n",
      "Test MSE: 14.452549934387207\n",
      "Test MAE: 2.9339582920074463\n",
      "Test RMSE: 3.8016510009765625\n",
      "region 3\n",
      "temporal model loaded!\n"
     ]
    },
    {
     "name": "stderr",
     "output_type": "stream",
     "text": [
      "100%|██████████| 50/50 [00:00<00:00, 162.94it/s]\n"
     ]
    },
    {
     "name": "stdout",
     "output_type": "stream",
     "text": [
      "\n",
      "\n",
      "Final Training loss: 4.881421089172363\n",
      "Final Validation loss: 9.153989791870117\n",
      "Test MSE: 14.480252265930176\n",
      "Test MAE: 2.9459407329559326\n",
      "Test RMSE: 3.8052926063537598\n",
      "region 4\n",
      "temporal model loaded!\n"
     ]
    },
    {
     "name": "stderr",
     "output_type": "stream",
     "text": [
      "100%|██████████| 50/50 [00:00<00:00, 117.46it/s]\n"
     ]
    },
    {
     "name": "stdout",
     "output_type": "stream",
     "text": [
      "\n",
      "\n",
      "Final Training loss: 4.865485668182373\n",
      "Final Validation loss: 9.005175590515137\n",
      "Test MSE: 15.18845272064209\n",
      "Test MAE: 2.939289093017578\n",
      "Test RMSE: 3.8972365856170654\n",
      "region 5\n",
      "temporal model loaded!\n"
     ]
    },
    {
     "name": "stderr",
     "output_type": "stream",
     "text": [
      "100%|██████████| 50/50 [00:00<00:00, 118.50it/s]\n"
     ]
    },
    {
     "name": "stdout",
     "output_type": "stream",
     "text": [
      "\n",
      "\n",
      "Final Training loss: 4.777289867401123\n",
      "Final Validation loss: 9.09062671661377\n",
      "Test MSE: 15.423748970031738\n",
      "Test MAE: 2.9389092922210693\n",
      "Test RMSE: 3.9273080825805664\n",
      "region 6\n",
      "temporal model loaded!\n"
     ]
    },
    {
     "name": "stderr",
     "output_type": "stream",
     "text": [
      "100%|██████████| 50/50 [00:00<00:00, 131.07it/s]\n"
     ]
    },
    {
     "name": "stdout",
     "output_type": "stream",
     "text": [
      "\n",
      "\n",
      "Final Training loss: 4.863633155822754\n",
      "Final Validation loss: 9.053088188171387\n",
      "Test MSE: 15.548702239990234\n",
      "Test MAE: 2.9466707706451416\n",
      "Test RMSE: 3.9431843757629395\n",
      "region 7\n",
      "temporal model loaded!\n"
     ]
    },
    {
     "name": "stderr",
     "output_type": "stream",
     "text": [
      "100%|██████████| 50/50 [00:00<00:00, 150.90it/s]\n"
     ]
    },
    {
     "name": "stdout",
     "output_type": "stream",
     "text": [
      "\n",
      "\n",
      "Final Training loss: 4.791506767272949\n",
      "Final Validation loss: 9.070149421691895\n",
      "Test MSE: 15.066975593566895\n",
      "Test MAE: 2.9334380626678467\n",
      "Test RMSE: 3.881620168685913\n",
      "region 8\n",
      "temporal model loaded!\n"
     ]
    },
    {
     "name": "stderr",
     "output_type": "stream",
     "text": [
      "100%|██████████| 50/50 [00:00<00:00, 152.98it/s]\n"
     ]
    },
    {
     "name": "stdout",
     "output_type": "stream",
     "text": [
      "\n",
      "\n",
      "Final Training loss: 4.834712505340576\n",
      "Final Validation loss: 9.19892406463623\n",
      "Test MSE: 15.548991203308105\n",
      "Test MAE: 2.957782030105591\n",
      "Test RMSE: 3.943220853805542\n",
      "region 9\n",
      "temporal model loaded!\n"
     ]
    },
    {
     "name": "stderr",
     "output_type": "stream",
     "text": [
      "100%|██████████| 50/50 [00:00<00:00, 151.34it/s]\n"
     ]
    },
    {
     "name": "stdout",
     "output_type": "stream",
     "text": [
      "\n",
      "\n",
      "Final Training loss: 4.815269947052002\n",
      "Final Validation loss: 9.074174880981445\n",
      "Test MSE: 14.39230728149414\n",
      "Test MAE: 2.952535390853882\n",
      "Test RMSE: 3.793719530105591\n",
      "region 10\n",
      "temporal model loaded!\n"
     ]
    },
    {
     "name": "stderr",
     "output_type": "stream",
     "text": [
      "100%|██████████| 50/50 [00:00<00:00, 151.37it/s]\n"
     ]
    },
    {
     "name": "stdout",
     "output_type": "stream",
     "text": [
      "\n",
      "\n",
      "Final Training loss: 4.7548956871032715\n",
      "Final Validation loss: 9.043291091918945\n",
      "Test MSE: 15.07220458984375\n",
      "Test MAE: 2.929243326187134\n",
      "Test RMSE: 3.882293701171875\n",
      "region 11\n",
      "temporal model loaded!\n"
     ]
    },
    {
     "name": "stderr",
     "output_type": "stream",
     "text": [
      "100%|██████████| 50/50 [00:00<00:00, 148.02it/s]\n"
     ]
    },
    {
     "name": "stdout",
     "output_type": "stream",
     "text": [
      "\n",
      "\n",
      "Final Training loss: 4.882945537567139\n",
      "Final Validation loss: 9.143513679504395\n",
      "Test MSE: 15.661742210388184\n",
      "Test MAE: 2.9458630084991455\n",
      "Test RMSE: 3.957491874694824\n",
      "region 12\n",
      "temporal model loaded!\n"
     ]
    },
    {
     "name": "stderr",
     "output_type": "stream",
     "text": [
      "100%|██████████| 50/50 [00:00<00:00, 136.99it/s]\n"
     ]
    },
    {
     "name": "stdout",
     "output_type": "stream",
     "text": [
      "\n",
      "\n",
      "Final Training loss: 4.7580485343933105\n",
      "Final Validation loss: 9.16529369354248\n",
      "Test MSE: 14.453628540039062\n",
      "Test MAE: 2.931640625\n",
      "Test RMSE: 3.801792860031128\n",
      "region 13\n",
      "temporal model loaded!\n"
     ]
    },
    {
     "name": "stderr",
     "output_type": "stream",
     "text": [
      "100%|██████████| 50/50 [00:00<00:00, 142.98it/s]\n"
     ]
    },
    {
     "name": "stdout",
     "output_type": "stream",
     "text": [
      "\n",
      "\n",
      "Final Training loss: 4.829558372497559\n",
      "Final Validation loss: 9.071805953979492\n",
      "Test MSE: 14.732754707336426\n",
      "Test MAE: 2.9783573150634766\n",
      "Test RMSE: 3.838327169418335\n",
      "region 14\n",
      "temporal model loaded!\n"
     ]
    },
    {
     "name": "stderr",
     "output_type": "stream",
     "text": [
      "100%|██████████| 50/50 [00:00<00:00, 136.52it/s]\n"
     ]
    },
    {
     "name": "stdout",
     "output_type": "stream",
     "text": [
      "\n",
      "\n",
      "Final Training loss: 4.678573131561279\n",
      "Final Validation loss: 9.123279571533203\n",
      "Test MSE: 14.917170524597168\n",
      "Test MAE: 2.925870180130005\n",
      "Test RMSE: 3.8622753620147705\n",
      "region 15\n",
      "temporal model loaded!\n"
     ]
    },
    {
     "name": "stderr",
     "output_type": "stream",
     "text": [
      "100%|██████████| 50/50 [00:00<00:00, 154.06it/s]\n"
     ]
    },
    {
     "name": "stdout",
     "output_type": "stream",
     "text": [
      "\n",
      "\n",
      "Final Training loss: 4.8779988288879395\n",
      "Final Validation loss: 9.107592582702637\n",
      "Test MSE: 15.087157249450684\n",
      "Test MAE: 2.9326012134552\n",
      "Test RMSE: 3.88421893119812\n",
      "region 16\n",
      "temporal model loaded!\n"
     ]
    },
    {
     "name": "stderr",
     "output_type": "stream",
     "text": [
      "100%|██████████| 50/50 [00:00<00:00, 143.96it/s]\n"
     ]
    },
    {
     "name": "stdout",
     "output_type": "stream",
     "text": [
      "\n",
      "\n",
      "Final Training loss: 4.727482318878174\n",
      "Final Validation loss: 9.098685264587402\n",
      "Test MSE: 15.128108024597168\n",
      "Test MAE: 2.9348390102386475\n",
      "Test RMSE: 3.889486789703369\n",
      "region 17\n",
      "temporal model loaded!\n"
     ]
    },
    {
     "name": "stderr",
     "output_type": "stream",
     "text": [
      "100%|██████████| 50/50 [00:00<00:00, 159.55it/s]\n"
     ]
    },
    {
     "name": "stdout",
     "output_type": "stream",
     "text": [
      "\n",
      "\n",
      "Final Training loss: 4.87184476852417\n",
      "Final Validation loss: 9.138330459594727\n",
      "Test MSE: 15.01755142211914\n",
      "Test MAE: 2.9303176403045654\n",
      "Test RMSE: 3.875248670578003\n",
      "region 18\n",
      "temporal model loaded!\n"
     ]
    },
    {
     "name": "stderr",
     "output_type": "stream",
     "text": [
      "100%|██████████| 50/50 [00:00<00:00, 156.73it/s]\n"
     ]
    },
    {
     "name": "stdout",
     "output_type": "stream",
     "text": [
      "\n",
      "\n",
      "Final Training loss: 4.848287582397461\n",
      "Final Validation loss: 9.152745246887207\n",
      "Test MSE: 14.95703125\n",
      "Test MAE: 2.9299182891845703\n",
      "Test RMSE: 3.867432117462158\n",
      "region 19\n",
      "temporal model loaded!\n"
     ]
    },
    {
     "name": "stderr",
     "output_type": "stream",
     "text": [
      "100%|██████████| 50/50 [00:00<00:00, 157.18it/s]\n"
     ]
    },
    {
     "name": "stdout",
     "output_type": "stream",
     "text": [
      "\n",
      "\n",
      "Final Training loss: 4.911590576171875\n",
      "Final Validation loss: 9.17906665802002\n",
      "Test MSE: 14.49023723602295\n",
      "Test MAE: 2.926523208618164\n",
      "Test RMSE: 3.8066043853759766\n",
      "region 20\n",
      "temporal model loaded!\n"
     ]
    },
    {
     "name": "stderr",
     "output_type": "stream",
     "text": [
      "100%|██████████| 50/50 [00:00<00:00, 160.05it/s]\n"
     ]
    },
    {
     "name": "stdout",
     "output_type": "stream",
     "text": [
      "\n",
      "\n",
      "Final Training loss: 4.807560443878174\n",
      "Final Validation loss: 9.016924858093262\n",
      "Test MSE: 14.326336860656738\n",
      "Test MAE: 2.9675095081329346\n",
      "Test RMSE: 3.7850148677825928\n",
      "region 21\n",
      "temporal model loaded!\n"
     ]
    },
    {
     "name": "stderr",
     "output_type": "stream",
     "text": [
      "100%|██████████| 50/50 [00:00<00:00, 155.93it/s]\n"
     ]
    },
    {
     "name": "stdout",
     "output_type": "stream",
     "text": [
      "\n",
      "\n",
      "Final Training loss: 4.816884994506836\n",
      "Final Validation loss: 9.147095680236816\n",
      "Test MSE: 15.190625190734863\n",
      "Test MAE: 2.9358537197113037\n",
      "Test RMSE: 3.897515296936035\n",
      "region 22\n",
      "temporal model loaded!\n"
     ]
    },
    {
     "name": "stderr",
     "output_type": "stream",
     "text": [
      "100%|██████████| 50/50 [00:00<00:00, 155.45it/s]\n"
     ]
    },
    {
     "name": "stdout",
     "output_type": "stream",
     "text": [
      "\n",
      "\n",
      "Final Training loss: 4.883336067199707\n",
      "Final Validation loss: 9.114570617675781\n",
      "Test MSE: 15.029906272888184\n",
      "Test MAE: 2.934427261352539\n",
      "Test RMSE: 3.8768422603607178\n",
      "region 23\n",
      "temporal model loaded!\n"
     ]
    },
    {
     "name": "stderr",
     "output_type": "stream",
     "text": [
      "100%|██████████| 50/50 [00:00<00:00, 159.12it/s]\n"
     ]
    },
    {
     "name": "stdout",
     "output_type": "stream",
     "text": [
      "\n",
      "\n",
      "Final Training loss: 5.0753021240234375\n",
      "Final Validation loss: 9.036827087402344\n",
      "Test MSE: 14.91317367553711\n",
      "Test MAE: 2.9275810718536377\n",
      "Test RMSE: 3.861757755279541\n",
      "region 24\n",
      "temporal model loaded!\n"
     ]
    },
    {
     "name": "stderr",
     "output_type": "stream",
     "text": [
      "100%|██████████| 50/50 [00:00<00:00, 157.55it/s]\n"
     ]
    },
    {
     "name": "stdout",
     "output_type": "stream",
     "text": [
      "\n",
      "\n",
      "Final Training loss: 4.922022342681885\n",
      "Final Validation loss: 9.1727876663208\n",
      "Test MSE: 14.881866455078125\n",
      "Test MAE: 2.9266910552978516\n",
      "Test RMSE: 3.8577022552490234\n",
      "region 25\n",
      "temporal model loaded!\n"
     ]
    },
    {
     "name": "stderr",
     "output_type": "stream",
     "text": [
      "100%|██████████| 50/50 [00:00<00:00, 144.00it/s]\n"
     ]
    },
    {
     "name": "stdout",
     "output_type": "stream",
     "text": [
      "\n",
      "\n",
      "Final Training loss: 4.809100151062012\n",
      "Final Validation loss: 8.988743782043457\n",
      "Test MSE: 14.50797176361084\n",
      "Test MAE: 2.9446334838867188\n",
      "Test RMSE: 3.8089332580566406\n",
      "region 26\n",
      "temporal model loaded!\n"
     ]
    },
    {
     "name": "stderr",
     "output_type": "stream",
     "text": [
      "100%|██████████| 50/50 [00:00<00:00, 157.91it/s]\n"
     ]
    },
    {
     "name": "stdout",
     "output_type": "stream",
     "text": [
      "\n",
      "\n",
      "Final Training loss: 4.915351867675781\n",
      "Final Validation loss: 9.062477111816406\n",
      "Test MSE: 15.264854431152344\n",
      "Test MAE: 2.932987928390503\n",
      "Test RMSE: 3.9070262908935547\n",
      "region 27\n",
      "temporal model loaded!\n"
     ]
    },
    {
     "name": "stderr",
     "output_type": "stream",
     "text": [
      "100%|██████████| 50/50 [00:00<00:00, 157.63it/s]\n"
     ]
    },
    {
     "name": "stdout",
     "output_type": "stream",
     "text": [
      "\n",
      "\n",
      "Final Training loss: 4.945450305938721\n",
      "Final Validation loss: 8.999634742736816\n",
      "Test MSE: 14.449067115783691\n",
      "Test MAE: 2.955000877380371\n",
      "Test RMSE: 3.8011927604675293\n",
      "region 28\n",
      "temporal model loaded!\n"
     ]
    },
    {
     "name": "stderr",
     "output_type": "stream",
     "text": [
      "100%|██████████| 50/50 [00:00<00:00, 157.98it/s]\n"
     ]
    },
    {
     "name": "stdout",
     "output_type": "stream",
     "text": [
      "\n",
      "\n",
      "Final Training loss: 4.847881317138672\n",
      "Final Validation loss: 9.045326232910156\n",
      "Test MSE: 14.427529335021973\n",
      "Test MAE: 2.943922281265259\n",
      "Test RMSE: 3.798358678817749\n",
      "region 29\n",
      "temporal model loaded!\n"
     ]
    },
    {
     "name": "stderr",
     "output_type": "stream",
     "text": [
      "100%|██████████| 50/50 [00:00<00:00, 160.92it/s]\n"
     ]
    },
    {
     "name": "stdout",
     "output_type": "stream",
     "text": [
      "\n",
      "\n",
      "Final Training loss: 4.8126420974731445\n",
      "Final Validation loss: 9.115446090698242\n",
      "Test MSE: 14.97359848022461\n",
      "Test MAE: 2.9312326908111572\n",
      "Test RMSE: 3.8695733547210693\n",
      "region 30\n",
      "temporal model loaded!\n"
     ]
    },
    {
     "name": "stderr",
     "output_type": "stream",
     "text": [
      "100%|██████████| 50/50 [00:00<00:00, 157.40it/s]\n"
     ]
    },
    {
     "name": "stdout",
     "output_type": "stream",
     "text": [
      "\n",
      "\n",
      "Final Training loss: 4.917630195617676\n",
      "Final Validation loss: 9.156950950622559\n",
      "Test MSE: 14.507359504699707\n",
      "Test MAE: 2.945985794067383\n",
      "Test RMSE: 3.8088526725769043\n",
      "region 31\n",
      "temporal model loaded!\n"
     ]
    },
    {
     "name": "stderr",
     "output_type": "stream",
     "text": [
      "100%|██████████| 50/50 [00:00<00:00, 146.29it/s]\n"
     ]
    },
    {
     "name": "stdout",
     "output_type": "stream",
     "text": [
      "\n",
      "\n",
      "Final Training loss: 4.868114948272705\n",
      "Final Validation loss: 9.086874961853027\n",
      "Test MSE: 14.331466674804688\n",
      "Test MAE: 2.9357261657714844\n",
      "Test RMSE: 3.7856924533843994\n",
      "region 32\n",
      "temporal model loaded!\n"
     ]
    },
    {
     "name": "stderr",
     "output_type": "stream",
     "text": [
      "100%|██████████| 50/50 [00:00<00:00, 155.18it/s]\n"
     ]
    },
    {
     "name": "stdout",
     "output_type": "stream",
     "text": [
      "\n",
      "\n",
      "Final Training loss: 4.803954124450684\n",
      "Final Validation loss: 9.119641304016113\n",
      "Test MSE: 14.615890502929688\n",
      "Test MAE: 2.9730589389801025\n",
      "Test RMSE: 3.823073387145996\n",
      "region 33\n",
      "temporal model loaded!\n"
     ]
    },
    {
     "name": "stderr",
     "output_type": "stream",
     "text": [
      "100%|██████████| 50/50 [00:00<00:00, 156.80it/s]\n"
     ]
    },
    {
     "name": "stdout",
     "output_type": "stream",
     "text": [
      "\n",
      "\n",
      "Final Training loss: 4.799283981323242\n",
      "Final Validation loss: 9.05598258972168\n",
      "Test MSE: 14.515494346618652\n",
      "Test MAE: 2.9279181957244873\n",
      "Test RMSE: 3.8099205493927\n",
      "region 34\n",
      "temporal model loaded!\n"
     ]
    },
    {
     "name": "stderr",
     "output_type": "stream",
     "text": [
      "100%|██████████| 50/50 [00:00<00:00, 155.56it/s]\n"
     ]
    },
    {
     "name": "stdout",
     "output_type": "stream",
     "text": [
      "\n",
      "\n",
      "Final Training loss: 4.883335590362549\n",
      "Final Validation loss: 9.02387523651123\n",
      "Test MSE: 14.531270027160645\n",
      "Test MAE: 2.9421956539154053\n",
      "Test RMSE: 3.811990261077881\n",
      "region 35\n",
      "temporal model loaded!\n"
     ]
    },
    {
     "name": "stderr",
     "output_type": "stream",
     "text": [
      "100%|██████████| 50/50 [00:00<00:00, 156.32it/s]\n"
     ]
    },
    {
     "name": "stdout",
     "output_type": "stream",
     "text": [
      "\n",
      "\n",
      "Final Training loss: 4.881418228149414\n",
      "Final Validation loss: 9.002523422241211\n",
      "Test MSE: 14.553837776184082\n",
      "Test MAE: 2.941279649734497\n",
      "Test RMSE: 3.8149492740631104\n",
      "region 36\n",
      "temporal model loaded!\n"
     ]
    },
    {
     "name": "stderr",
     "output_type": "stream",
     "text": [
      "100%|██████████| 50/50 [00:00<00:00, 132.29it/s]\n"
     ]
    },
    {
     "name": "stdout",
     "output_type": "stream",
     "text": [
      "\n",
      "\n",
      "Final Training loss: 4.798800945281982\n",
      "Final Validation loss: 8.973701477050781\n",
      "Test MSE: 15.333586692810059\n",
      "Test MAE: 2.95531964302063\n",
      "Test RMSE: 3.9158124923706055\n",
      "region 37\n",
      "temporal model loaded!\n"
     ]
    },
    {
     "name": "stderr",
     "output_type": "stream",
     "text": [
      "100%|██████████| 50/50 [00:00<00:00, 129.28it/s]\n"
     ]
    },
    {
     "name": "stdout",
     "output_type": "stream",
     "text": [
      "\n",
      "\n",
      "Final Training loss: 4.763924598693848\n",
      "Final Validation loss: 9.034420013427734\n",
      "Test MSE: 15.184524536132812\n",
      "Test MAE: 2.9366445541381836\n",
      "Test RMSE: 3.8967325687408447\n",
      "region 38\n",
      "temporal model loaded!\n"
     ]
    },
    {
     "name": "stderr",
     "output_type": "stream",
     "text": [
      "100%|██████████| 50/50 [00:00<00:00, 155.28it/s]\n"
     ]
    },
    {
     "name": "stdout",
     "output_type": "stream",
     "text": [
      "\n",
      "\n",
      "Final Training loss: 4.838878154754639\n",
      "Final Validation loss: 8.993476867675781\n",
      "Test MSE: 15.515599250793457\n",
      "Test MAE: 2.9425716400146484\n",
      "Test RMSE: 3.9389846324920654\n",
      "region 39\n",
      "temporal model loaded!\n"
     ]
    },
    {
     "name": "stderr",
     "output_type": "stream",
     "text": [
      "100%|██████████| 50/50 [00:00<00:00, 148.45it/s]\n"
     ]
    },
    {
     "name": "stdout",
     "output_type": "stream",
     "text": [
      "\n",
      "\n",
      "Final Training loss: 4.9681243896484375\n",
      "Final Validation loss: 9.09703540802002\n",
      "Test MSE: 15.483543395996094\n",
      "Test MAE: 2.9386990070343018\n",
      "Test RMSE: 3.934913396835327\n",
      "region 40\n",
      "temporal model loaded!\n"
     ]
    },
    {
     "name": "stderr",
     "output_type": "stream",
     "text": [
      "100%|██████████| 50/50 [00:00<00:00, 155.34it/s]\n"
     ]
    },
    {
     "name": "stdout",
     "output_type": "stream",
     "text": [
      "\n",
      "\n",
      "Final Training loss: 4.826498508453369\n",
      "Final Validation loss: 9.043079376220703\n",
      "Test MSE: 15.543010711669922\n",
      "Test MAE: 2.9436800479888916\n",
      "Test RMSE: 3.94246244430542\n",
      "region 41\n",
      "temporal model loaded!\n"
     ]
    },
    {
     "name": "stderr",
     "output_type": "stream",
     "text": [
      "100%|██████████| 50/50 [00:00<00:00, 155.81it/s]\n"
     ]
    },
    {
     "name": "stdout",
     "output_type": "stream",
     "text": [
      "\n",
      "\n",
      "Final Training loss: 4.774615287780762\n",
      "Final Validation loss: 9.103507995605469\n",
      "Test MSE: 15.188115119934082\n",
      "Test MAE: 2.930997610092163\n",
      "Test RMSE: 3.897193193435669\n",
      "region 42\n",
      "temporal model loaded!\n"
     ]
    },
    {
     "name": "stderr",
     "output_type": "stream",
     "text": [
      "100%|██████████| 50/50 [00:00<00:00, 156.56it/s]\n"
     ]
    },
    {
     "name": "stdout",
     "output_type": "stream",
     "text": [
      "\n",
      "\n",
      "Final Training loss: 4.905758380889893\n",
      "Final Validation loss: 9.197304725646973\n",
      "Test MSE: 15.080506324768066\n",
      "Test MAE: 2.9308154582977295\n",
      "Test RMSE: 3.8833627700805664\n",
      "region 43\n",
      "temporal model loaded!\n"
     ]
    },
    {
     "name": "stderr",
     "output_type": "stream",
     "text": [
      "100%|██████████| 50/50 [00:00<00:00, 153.55it/s]\n"
     ]
    },
    {
     "name": "stdout",
     "output_type": "stream",
     "text": [
      "\n",
      "\n",
      "Final Training loss: 4.809247970581055\n",
      "Final Validation loss: 9.024809837341309\n",
      "Test MSE: 14.871265411376953\n",
      "Test MAE: 2.922654151916504\n",
      "Test RMSE: 3.856328010559082\n",
      "region 44\n",
      "temporal model loaded!\n"
     ]
    },
    {
     "name": "stderr",
     "output_type": "stream",
     "text": [
      "100%|██████████| 50/50 [00:00<00:00, 156.67it/s]\n"
     ]
    },
    {
     "name": "stdout",
     "output_type": "stream",
     "text": [
      "\n",
      "\n",
      "Final Training loss: 4.923417568206787\n",
      "Final Validation loss: 9.143959045410156\n",
      "Test MSE: 14.35190200805664\n",
      "Test MAE: 2.943540334701538\n",
      "Test RMSE: 3.7883903980255127\n",
      "region 45\n",
      "temporal model loaded!\n"
     ]
    },
    {
     "name": "stderr",
     "output_type": "stream",
     "text": [
      "100%|██████████| 50/50 [00:00<00:00, 157.56it/s]\n"
     ]
    },
    {
     "name": "stdout",
     "output_type": "stream",
     "text": [
      "\n",
      "\n",
      "Final Training loss: 4.7872209548950195\n",
      "Final Validation loss: 9.052711486816406\n",
      "Test MSE: 14.852538108825684\n",
      "Test MAE: 2.9296348094940186\n",
      "Test RMSE: 3.8538990020751953\n",
      "region 46\n",
      "temporal model loaded!\n"
     ]
    },
    {
     "name": "stderr",
     "output_type": "stream",
     "text": [
      "100%|██████████| 50/50 [00:00<00:00, 157.28it/s]"
     ]
    },
    {
     "name": "stdout",
     "output_type": "stream",
     "text": [
      "\n",
      "\n",
      "Final Training loss: 4.817765235900879\n",
      "Final Validation loss: 9.118547439575195\n",
      "Test MSE: 14.401469230651855\n",
      "Test MAE: 2.9464633464813232\n",
      "Test RMSE: 3.794926881790161\n",
      "mae:2.9397404193878174 0.012147119268774986\n",
      "rmse:3.858975410461426 0.052178412675857544\n"
     ]
    },
    {
     "name": "stderr",
     "output_type": "stream",
     "text": [
      "\n"
     ]
    }
   ],
   "source": [
    "task = Forecast(prototype=LSTMModel, dataset=None, lookback=lookback, horizon=horizon, device='cpu')\n",
    "num_nodes = 47\n",
    "mae_list=[]\n",
    "rmse_list=[]\n",
    "for region in range(num_nodes):\n",
    "    print(\"region\", region)\n",
    "    result = task.train_model(dataset=datasets[-1], config=config, loss='mse', epochs=50, batch_size=50, region_idx=1, permute_dataset=False)\n",
    "    mae_list.append(result['mae'])\n",
    "    rmse_list.append(result['rmse'])\n",
    "\n",
    "mae = torch.FloatTensor(mae_list)\n",
    "rmse = torch.FloatTensor(rmse_list)\n",
    "print(f\"mae:{mae.mean()} {mae.std()}\")\n",
    "print(f\"rmse:{rmse.mean()} {rmse.std()}\")"
   ]
  }
 ],
 "metadata": {
  "kernelspec": {
   "display_name": "test",
   "language": "python",
   "name": "python3"
  },
  "language_info": {
   "codemirror_mode": {
    "name": "ipython",
    "version": 3
   },
   "file_extension": ".py",
   "mimetype": "text/x-python",
   "name": "python",
   "nbconvert_exporter": "python",
   "pygments_lexer": "ipython3",
   "version": "3.9.21"
  }
 },
 "nbformat": 4,
 "nbformat_minor": 2
}
