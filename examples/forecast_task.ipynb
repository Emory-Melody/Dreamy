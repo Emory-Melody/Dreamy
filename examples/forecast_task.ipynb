{
 "cells": [
  {
   "cell_type": "code",
   "execution_count": null,
   "metadata": {},
   "outputs": [],
   "source": [
    "import torch\n",
    "import os\n",
    "import matplotlib.pyplot as plt\n",
    "os.chdir(\"..\")\n",
    "\n",
    "from epilearn.models.SpatialTemporal.STGCN import STGCN\n",
    "from epilearn.models.SpatialTemporal.MepoGNN import MepoGNN\n",
    "from epilearn.models.SpatialTemporal.EpiGNN import EpiGNN\n",
    "from epilearn.models.SpatialTemporal.DASTGN import DASTGN\n",
    "from epilearn.models.SpatialTemporal.ColaGNN import ColaGNN\n",
    "from epilearn.models.SpatialTemporal.EpiColaGNN import EpiColaGNN\n",
    "from epilearn.models.SpatialTemporal.CNNRNN_Res import CNNRNN_Res\n",
    "from epilearn.models.SpatialTemporal.ATMGNN import MPNN_LSTM, ATMGNN\n",
    "\n",
    "from epilearn.models.Temporal.Dlinear import DlinearModel\n",
    "from epilearn.models.Temporal.LSTM import LSTMModel\n",
    "from epilearn.models.Temporal.GRU import GRUModel\n",
    "\n",
    "from epilearn.data import UniversalDataset\n",
    "from epilearn.utils import utils, transforms\n",
    "from epilearn.tasks.forecast import Forecast"
   ]
  },
  {
   "cell_type": "markdown",
   "metadata": {},
   "source": [
    "### Configs"
   ]
  },
  {
   "cell_type": "code",
   "execution_count": null,
   "metadata": {},
   "outputs": [],
   "source": [
    "# initial settings\n",
    "device = torch.device('mps')\n",
    "torch.manual_seed(7)\n",
    "\n",
    "lookback = 12 # inputs size\n",
    "horizon = 3 # predicts size\n",
    "\n",
    "# permutation is True when using STGCN\n",
    "permute = False\n",
    "\n",
    "epochs = 10 # training epochs\n",
    "batch_size = 50 # training batch size"
   ]
  },
  {
   "cell_type": "markdown",
   "metadata": {},
   "source": [
    "### Initialize dataset"
   ]
  },
  {
   "cell_type": "code",
   "execution_count": null,
   "metadata": {},
   "outputs": [],
   "source": [
    "# load toy dataset\n",
    "dataset = UniversalDataset()\n",
    "dataset.load_toy_dataset()"
   ]
  },
  {
   "cell_type": "markdown",
   "metadata": {},
   "source": [
    "### Initialize model and task\n",
    "* prototype supports all models imported at the first cell"
   ]
  },
  {
   "cell_type": "code",
   "execution_count": null,
   "metadata": {},
   "outputs": [],
   "source": [
    "task = Forecast(prototype=EpiGNN, dataset=None, lookback=lookback, horizon=horizon)"
   ]
  },
  {
   "cell_type": "markdown",
   "metadata": {},
   "source": [
    "### Add transformations to dataset"
   ]
  },
  {
   "cell_type": "code",
   "execution_count": null,
   "metadata": {},
   "outputs": [],
   "source": [
    "transformation = transforms.Compose({\"features\":[transforms.normalize_feat()], \n",
    "                                 'graph': [transforms.normalize_adj()], \n",
    "                                 'dynamic_graph': [transforms.normalize_adj()], \n",
    "                                 'states': []\n",
    "                                 })\n",
    "dataset.transforms = transformation"
   ]
  },
  {
   "cell_type": "markdown",
   "metadata": {},
   "source": [
    "### Train Model\n",
    "* for epicolagnn, loss='epi_cola' else loss='mse\n",
    "* for STGCN, permute_dataset=True"
   ]
  },
  {
   "cell_type": "code",
   "execution_count": null,
   "metadata": {},
   "outputs": [],
   "source": [
    "config = None\n",
    "result = task.train_model(dataset=dataset, config=config, loss='mse', epochs=5, permute_dataset=permute, device=device) # instead of config, we can also dircetly input some parameters"
   ]
  },
  {
   "cell_type": "markdown",
   "metadata": {},
   "source": [
    "### Evaluate model"
   ]
  },
  {
   "cell_type": "code",
   "execution_count": null,
   "metadata": {},
   "outputs": [],
   "source": [
    "evaluation = task.evaluate_model()"
   ]
  },
  {
   "cell_type": "markdown",
   "metadata": {},
   "source": [
    "### Try more datasets"
   ]
  },
  {
   "cell_type": "code",
   "execution_count": null,
   "metadata": {},
   "outputs": [],
   "source": [
    "# load other datasets\n",
    "datasets = [dataset]\n",
    "raw_data = torch.load(\"datasets/covid_static.pt\")\n",
    "for name in ['Brazil', 'Austria', 'China']:\n",
    "    data = raw_data[name]\n",
    "    dataset = UniversalDataset()\n",
    "    dataset.x = data['features']\n",
    "    dataset.y = data['features'][:,:,0]\n",
    "    dataset.graph = data['graph']\n",
    "    dataset.states = data['features']\n",
    "    dataset.dynamic_graph = None\n",
    "\n",
    "    dataset.transforms = transformation\n",
    "    datasets.append(dataset)\n"
   ]
  },
  {
   "cell_type": "code",
   "execution_count": null,
   "metadata": {},
   "outputs": [],
   "source": [
    "for i, dataset in enumerate(datasets):\n",
    "    print(f\"dataset {i}\")\n",
    "    model = task.train_model(dataset=dataset, config=config, loss='mse', epochs=50, batch_size=50, permute_dataset=permute) # instead of config, we can also dircetly input some parameters"
   ]
  },
  {
   "cell_type": "markdown",
   "metadata": {},
   "source": [
    "### Try temporal models"
   ]
  },
  {
   "cell_type": "code",
   "execution_count": null,
   "metadata": {},
   "outputs": [],
   "source": [
    "task = Forecast(prototype=LSTMModel, dataset=None, lookback=lookback, horizon=horizon, device='cpu')\n",
    "num_nodes = 47\n",
    "mae_list=[]\n",
    "rmse_list=[]\n",
    "for region in range(num_nodes):\n",
    "    print(\"region\", region)\n",
    "    result = task.train_model(dataset=datasets[-1], config=config, loss='mse', epochs=50, batch_size=50, region_idx=1, permute_dataset=False)\n",
    "    mae_list.append(result['mae'])\n",
    "    rmse_list.append(result['rmse'])\n",
    "\n",
    "mae = torch.FloatTensor(mae_list)\n",
    "rmse = torch.FloatTensor(rmse_list)\n",
    "print(f\"mae:{mae.mean()} {mae.std()}\")\n",
    "print(f\"rmse:{rmse.mean()} {rmse.std()}\")"
   ]
  }
 ],
 "metadata": {
  "kernelspec": {
   "display_name": "epilearn",
   "language": "python",
   "name": "python3"
  },
  "language_info": {
   "codemirror_mode": {
    "name": "ipython",
    "version": 3
   },
   "file_extension": ".py",
   "mimetype": "text/x-python",
   "name": "python",
   "nbconvert_exporter": "python",
   "pygments_lexer": "ipython3",
   "version": "3.9.19"
  }
 },
 "nbformat": 4,
 "nbformat_minor": 2
}
