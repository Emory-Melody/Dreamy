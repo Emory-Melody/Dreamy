{
 "cells": [
  {
   "cell_type": "code",
   "execution_count": 1,
   "metadata": {},
   "outputs": [],
   "source": [
    "import torch\n",
    "import os\n",
    "import matplotlib.pyplot as plt\n",
    "os.chdir(\"..\")\n",
    "\n",
    "from dreamy.models.SpatialTemporal.STGCN import STGCN\n",
    "from dreamy.models.SpatialTemporal.ATMGNN import MPNN_LSTM, ATMGNN\n",
    "\n",
    "\n",
    "from dreamy.data import UniversalDataset\n",
    "from dreamy.utils import utils\n",
    "\n",
    "# initial settings\n",
    "device = torch.device('cpu')\n",
    "torch.manual_seed(7)\n",
    "\n",
    "lookback = 12 # inputs size\n",
    "horizon = 3 # predicts size\n",
    "\n",
    "# permutation is True when using STGCN\n",
    "permute = True\n",
    "\n",
    "epochs = 50 # training epochs\n",
    "batch_size = 50 # training batch size"
   ]
  },
  {
   "cell_type": "code",
   "execution_count": 2,
   "metadata": {},
   "outputs": [],
   "source": [
    "# load toy dataset\n",
    "dataset = UniversalDataset()\n",
    "dataset.load_toy_dataset()\n",
    "\n",
    "# preprocessing\n",
    "features, mean, std = utils.normalize(dataset.x)\n",
    "adj_norm = utils.normalize_adj(dataset.graph)\n",
    "\n",
    "features = features.to(device)\n",
    "adj_norm = adj_norm.to(device)\n",
    "\n",
    "# prepare datasets\n",
    "train_rate = 0.6 \n",
    "val_rate = 0.2\n",
    "\n",
    "split_line1 = int(features.shape[0] * train_rate)\n",
    "split_line2 = int(features.shape[0] * (train_rate + val_rate))\n",
    "\n",
    "train_original_data = features[:split_line1, :, :]\n",
    "val_original_data = features[split_line1:split_line2, :, :]\n",
    "test_original_data = features[split_line2:, :, :]\n",
    "\n",
    "train_input, train_target = dataset.generate_dataset(X=train_original_data, Y=train_original_data[:, :, 0], lookback_window_size=lookback, horizon_size=horizon, permute=permute)\n",
    "val_input, val_target = dataset.generate_dataset(X=val_original_data, Y=val_original_data[:, :, 0], lookback_window_size=lookback, horizon_size=horizon, permute=permute)\n",
    "test_input, test_target = dataset.generate_dataset(X=test_original_data, Y=test_original_data[:, :, 0], lookback_window_size=lookback, horizon_size=horizon, permute=permute)\n",
    "\n",
    "# prepare model\n",
    "model = STGCN(\n",
    "            num_nodes=adj_norm.shape[0],\n",
    "            num_features=train_input.shape[3],\n",
    "            num_timesteps_input=lookback,\n",
    "            num_timesteps_output=horizon\n",
    "            ).to(device=device)\n",
    "\n",
    "# model = MPNN_LSTM(\n",
    "#                 num_nodes=adj_norm.shape[0],\n",
    "#                 num_features=train_input.shape[3],\n",
    "#                 num_timesteps_input=lookback,\n",
    "#                 num_timesteps_output=horizon,\n",
    "#                 nhid=4\n",
    "#                 ).to(device=device)\n",
    "\n",
    "# model = ATMGNN(\n",
    "#                 num_nodes=adj_norm.shape[0],\n",
    "#                 num_features=train_input.shape[3],\n",
    "#                 num_timesteps_input=lookback,\n",
    "#                 num_timesteps_output=horizon,\n",
    "#                 nhid=4\n",
    "#                 ).to(device=device)"
   ]
  },
  {
   "cell_type": "code",
   "execution_count": 3,
   "metadata": {},
   "outputs": [
    {
     "name": "stderr",
     "output_type": "stream",
     "text": [
      "  2%|▏         | 1/50 [00:01<00:54,  1.11s/it]"
     ]
    },
    {
     "name": "stdout",
     "output_type": "stream",
     "text": [
      "######### epoch:0\n",
      "Training loss: 0.28789070674351286\n",
      "Validation loss: 0.4536033570766449\n"
     ]
    },
    {
     "name": "stderr",
     "output_type": "stream",
     "text": [
      "100%|██████████| 50/50 [00:51<00:00,  1.03s/it]"
     ]
    },
    {
     "name": "stdout",
     "output_type": "stream",
     "text": [
      "\n",
      "\n",
      "Final Training loss: 0.006304816941597632\n",
      "Final Validation loss: 0.04892750456929207\n"
     ]
    },
    {
     "name": "stderr",
     "output_type": "stream",
     "text": [
      "\n"
     ]
    }
   ],
   "source": [
    "# training\n",
    "model.fit(\n",
    "        train_input=train_input, \n",
    "        train_target=train_target, \n",
    "        graph=adj_norm, \n",
    "        val_input=val_input, \n",
    "        val_target=val_target, \n",
    "        verbose=True,\n",
    "        batch_size=batch_size,\n",
    "        epochs=epochs)"
   ]
  },
  {
   "cell_type": "code",
   "execution_count": null,
   "metadata": {},
   "outputs": [],
   "source": [
    "# evaluate\n",
    "out = model.predict(feature=test_input, graph=adj_norm)\n",
    "preds = out.detach().cpu()*std[0]+mean[0]\n",
    "targets = test_target.detach().cpu()*std[0]+mean[0]\n",
    "# MAE\n",
    "mae = utils.get_MAE(preds, targets)\n",
    "print(f\"MAE: {mae.item()}\")"
   ]
  },
  {
   "cell_type": "code",
   "execution_count": null,
   "metadata": {},
   "outputs": [],
   "source": [
    "# visualization\n",
    "out = model.predict(feature=train_input, graph=adj_norm).detach().cpu()\n",
    "\n",
    "sample = 28\n",
    "\n",
    "plt.figure(figsize=(15 ,5))\n",
    "for i in range(1, 4):\n",
    "    sample_input=train_input[sample, i, :, 0]\n",
    "    sample_output=out[sample, i, :]\n",
    "    sample_target=train_target[sample, i, :]\n",
    "\n",
    "    vis_data = torch.cat([sample_input, sample_target]).numpy()\n",
    "    \n",
    "    plt.subplot(1, 3, i)\n",
    "    rng = list(range(lookback+horizon))\n",
    "    plt.plot(rng, vis_data, label=\"ground truth\")\n",
    "    plt.plot(rng[lookback:lookback+horizon], sample_output.numpy(), label=\"prediction\")\n",
    "    plt.legend()\n",
    "\n",
    "\n",
    "plt.show()"
   ]
  }
 ],
 "metadata": {
  "kernelspec": {
   "display_name": "dreamy",
   "language": "python",
   "name": "python3"
  },
  "language_info": {
   "codemirror_mode": {
    "name": "ipython",
    "version": 3
   },
   "file_extension": ".py",
   "mimetype": "text/x-python",
   "name": "python",
   "nbconvert_exporter": "python",
   "pygments_lexer": "ipython3",
   "version": "3.9.19"
  }
 },
 "nbformat": 4,
 "nbformat_minor": 2
}
