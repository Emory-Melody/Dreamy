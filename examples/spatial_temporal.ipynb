{
 "cells": [
  {
   "cell_type": "code",
   "execution_count": 2,
   "metadata": {
    "ExecuteTime": {
     "end_time": "2024-04-26T07:45:41.170717900Z",
     "start_time": "2024-04-26T07:45:41.100208300Z"
    }
   },
   "outputs": [
    {
     "ename": "ImportError",
     "evalue": "cannot import name 'GCN' from partially initialized module 'dreamy.models.Spatial' (most likely due to a circular import) (E:\\BaiduSyncdisk\\Project\\Dreamy\\dreamy\\models\\Spatial\\__init__.py)",
     "output_type": "error",
     "traceback": [
      "\u001B[1;31m---------------------------------------------------------------------------\u001B[0m",
      "\u001B[1;31mImportError\u001B[0m                               Traceback (most recent call last)",
      "Cell \u001B[1;32mIn[2], line 6\u001B[0m\n\u001B[0;32m      3\u001B[0m \u001B[38;5;28;01mimport\u001B[39;00m \u001B[38;5;21;01mmatplotlib\u001B[39;00m\u001B[38;5;21;01m.\u001B[39;00m\u001B[38;5;21;01mpyplot\u001B[39;00m \u001B[38;5;28;01mas\u001B[39;00m \u001B[38;5;21;01mplt\u001B[39;00m\n\u001B[0;32m      4\u001B[0m os\u001B[38;5;241m.\u001B[39mchdir(\u001B[38;5;124m\"\u001B[39m\u001B[38;5;124m..\u001B[39m\u001B[38;5;124m\"\u001B[39m)\n\u001B[1;32m----> 6\u001B[0m \u001B[38;5;28;01mfrom\u001B[39;00m \u001B[38;5;21;01mdreamy\u001B[39;00m\u001B[38;5;21;01m.\u001B[39;00m\u001B[38;5;21;01mmodels\u001B[39;00m\u001B[38;5;21;01m.\u001B[39;00m\u001B[38;5;21;01mSpatialTemporal\u001B[39;00m\u001B[38;5;21;01m.\u001B[39;00m\u001B[38;5;21;01mSTGCN\u001B[39;00m \u001B[38;5;28;01mimport\u001B[39;00m STGCN\n\u001B[0;32m      7\u001B[0m \u001B[38;5;28;01mfrom\u001B[39;00m \u001B[38;5;21;01mdreamy\u001B[39;00m\u001B[38;5;21;01m.\u001B[39;00m\u001B[38;5;21;01mmodels\u001B[39;00m\u001B[38;5;21;01m.\u001B[39;00m\u001B[38;5;21;01mSpatialTemporal\u001B[39;00m\u001B[38;5;21;01m.\u001B[39;00m\u001B[38;5;21;01mATMGNN\u001B[39;00m \u001B[38;5;28;01mimport\u001B[39;00m MPNN_LSTM, ATMGNN\n\u001B[0;32m      8\u001B[0m \u001B[38;5;28;01mfrom\u001B[39;00m \u001B[38;5;21;01mdreamy\u001B[39;00m\u001B[38;5;21;01m.\u001B[39;00m\u001B[38;5;21;01mmodels\u001B[39;00m\u001B[38;5;21;01m.\u001B[39;00m\u001B[38;5;21;01mSpatialTemporal\u001B[39;00m\u001B[38;5;21;01m.\u001B[39;00m\u001B[38;5;21;01mSTAN\u001B[39;00m \u001B[38;5;28;01mimport\u001B[39;00m STAN\n",
      "File \u001B[1;32mE:\\BaiduSyncdisk\\Project\\Dreamy\\dreamy\\__init__.py:1\u001B[0m\n\u001B[1;32m----> 1\u001B[0m \u001B[38;5;28;01mfrom\u001B[39;00m \u001B[38;5;21;01m.\u001B[39;00m \u001B[38;5;28;01mimport\u001B[39;00m (\n\u001B[0;32m      2\u001B[0m     data,\n\u001B[0;32m      3\u001B[0m     models,\n\u001B[0;32m      4\u001B[0m     transforms,\n\u001B[0;32m      5\u001B[0m     utils,\n\u001B[0;32m      6\u001B[0m     visualize\n\u001B[0;32m      7\u001B[0m )\n",
      "File \u001B[1;32mE:\\BaiduSyncdisk\\Project\\Dreamy\\dreamy\\models\\__init__.py:1\u001B[0m\n\u001B[1;32m----> 1\u001B[0m \u001B[38;5;28;01mfrom\u001B[39;00m \u001B[38;5;21;01m.\u001B[39;00m \u001B[38;5;28;01mimport\u001B[39;00m Spatial, Temporal, SpatialTemporal, General\n",
      "File \u001B[1;32mE:\\BaiduSyncdisk\\Project\\Dreamy\\dreamy\\models\\Spatial\\__init__.py:1\u001B[0m\n\u001B[1;32m----> 1\u001B[0m \u001B[38;5;28;01mfrom\u001B[39;00m \u001B[38;5;21;01m.\u001B[39;00m \u001B[38;5;28;01mimport\u001B[39;00m base, GCN, GAT, SAGE\n",
      "\u001B[1;31mImportError\u001B[0m: cannot import name 'GCN' from partially initialized module 'dreamy.models.Spatial' (most likely due to a circular import) (E:\\BaiduSyncdisk\\Project\\Dreamy\\dreamy\\models\\Spatial\\__init__.py)"
     ]
    }
   ],
   "source": [
    "import torch\n",
    "import os\n",
    "import matplotlib.pyplot as plt\n",
    "os.chdir(\"..\")\n",
    "\n",
    "from dreamy.models.SpatialTemporal.STGCN import STGCN\n",
    "from dreamy.models.SpatialTemporal.ATMGNN import MPNN_LSTM, ATMGNN\n",
    "from dreamy.models.SpatialTemporal.STAN import STAN\n",
    "\n",
    "\n",
    "from dreamy.data import UniversalDataset\n",
    "from dreamy.utils import utils\n",
    "\n",
    "# initial settings\n",
    "device = torch.device('cpu')\n",
    "torch.manual_seed(7)\n",
    "\n",
    "lookback = 12 # inputs size\n",
    "horizon = 3 # predicts size\n",
    "\n",
    "# permutation is True when using STGCN\n",
    "permute = True\n",
    "\n",
    "epochs = 50 # training epochs\n",
    "batch_size = 50 # training batch size"
   ]
  },
  {
   "cell_type": "code",
   "execution_count": null,
   "metadata": {},
   "outputs": [],
   "source": [
    "# load toy dataset\n",
    "dataset = UniversalDataset()\n",
    "dataset.load_toy_dataset()\n",
    "\n",
    "# preprocessing\n",
    "features, mean, std = utils.normalize(dataset.x)\n",
    "adj_norm = utils.normalize_adj(dataset.graph)\n",
    "\n",
    "features = features.to(device)\n",
    "adj_norm = adj_norm.to(device)\n",
    "\n",
    "# prepare datasets\n",
    "train_rate = 0.6 \n",
    "val_rate = 0.2\n",
    "\n",
    "split_line1 = int(features.shape[0] * train_rate)\n",
    "split_line2 = int(features.shape[0] * (train_rate + val_rate))\n",
    "\n",
    "train_original_data = features[:split_line1, :, :]\n",
    "val_original_data = features[split_line1:split_line2, :, :]\n",
    "test_original_data = features[split_line2:, :, :]\n",
    "\n",
    "train_input, train_target = dataset.generate_dataset(X=train_original_data, Y=train_original_data[:, :, 0], lookback_window_size=lookback, horizon_size=horizon, permute=permute)\n",
    "val_input, val_target = dataset.generate_dataset(X=val_original_data, Y=val_original_data[:, :, 0], lookback_window_size=lookback, horizon_size=horizon, permute=permute)\n",
    "test_input, test_target = dataset.generate_dataset(X=test_original_data, Y=test_original_data[:, :, 0], lookback_window_size=lookback, horizon_size=horizon, permute=permute)\n",
    "\n",
    "# prepare model\n",
    "# model = STGCN(\n",
    "#             num_nodes=adj_norm.shape[0],\n",
    "#             num_features=train_input.shape[3],\n",
    "#             num_timesteps_input=lookback,\n",
    "#             num_timesteps_output=horizon\n",
    "#             ).to(device=device)\n",
    "\n",
    "# model = MPNN_LSTM(\n",
    "#                 num_nodes=adj_norm.shape[0],\n",
    "#                 num_features=train_input.shape[3],\n",
    "#                 num_timesteps_input=lookback,\n",
    "#                 num_timesteps_output=horizon,\n",
    "#                 nhid=4\n",
    "#                 ).to(device=device)\n",
    "\n",
    "# model = ATMGNN(\n",
    "#                 num_nodes=adj_norm.shape[0],\n",
    "#                 num_features=train_input.shape[3],\n",
    "#                 num_timesteps_input=lookback,\n",
    "#                 num_timesteps_output=horizon,\n",
    "#                 nhid=4\n",
    "#                 ).to(device=device)\n",
    "\n",
    "model = STAN(\n",
    "                num_nodes=adj_norm.shape[0],\n",
    "                num_features=train_input.shape[3],\n",
    "                num_timesteps_input=lookback,\n",
    "                num_timesteps_output=horizon,\n",
    "                nhid=4\n",
    "                ).to(device=device)"
   ]
  },
  {
   "cell_type": "code",
   "execution_count": null,
   "metadata": {},
   "outputs": [],
   "source": [
    "# training\n",
    "model.fit(\n",
    "        train_input=train_input, \n",
    "        train_target=train_target, \n",
    "        graph=adj_norm, \n",
    "        val_input=val_input, \n",
    "        val_target=val_target, \n",
    "        verbose=True,\n",
    "        batch_size=batch_size,\n",
    "        epochs=epochs)"
   ]
  },
  {
   "cell_type": "code",
   "execution_count": null,
   "metadata": {},
   "outputs": [],
   "source": [
    "# evaluate\n",
    "out = model.predict(feature=test_input, graph=adj_norm)\n",
    "preds = out.detach().cpu()*std[0]+mean[0]\n",
    "targets = test_target.detach().cpu()*std[0]+mean[0]\n",
    "# MAE\n",
    "mae = utils.get_MAE(preds, targets)\n",
    "print(f\"MAE: {mae.item()}\")"
   ]
  },
  {
   "cell_type": "code",
   "execution_count": null,
   "metadata": {},
   "outputs": [],
   "source": [
    "# visualization\n",
    "out = model.predict(feature=train_input, graph=adj_norm).detach().cpu()\n",
    "\n",
    "sample = 28\n",
    "\n",
    "plt.figure(figsize=(15 ,5))\n",
    "for i in range(1, 4):\n",
    "    sample_input=train_input[sample, i, :, 0]\n",
    "    sample_output=out[sample, i, :]\n",
    "    sample_target=train_target[sample, i, :]\n",
    "\n",
    "    vis_data = torch.cat([sample_input, sample_target]).numpy()\n",
    "    \n",
    "    plt.subplot(1, 3, i)\n",
    "    rng = list(range(lookback+horizon))\n",
    "    plt.plot(rng, vis_data, label=\"ground truth\")\n",
    "    plt.plot(rng[lookback:lookback+horizon], sample_output.numpy(), label=\"prediction\")\n",
    "    plt.legend()\n",
    "\n",
    "\n",
    "plt.show()"
   ]
  }
 ],
 "metadata": {
  "kernelspec": {
   "display_name": "dreamy",
   "language": "python",
   "name": "python3"
  },
  "language_info": {
   "codemirror_mode": {
    "name": "ipython",
    "version": 3
   },
   "file_extension": ".py",
   "mimetype": "text/x-python",
   "name": "python",
   "nbconvert_exporter": "python",
   "pygments_lexer": "ipython3",
   "version": "3.9.19"
  }
 },
 "nbformat": 4,
 "nbformat_minor": 2
}
