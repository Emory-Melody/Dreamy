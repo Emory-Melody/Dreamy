{
 "cells": [
  {
   "cell_type": "code",
   "execution_count": 1,
   "metadata": {},
   "outputs": [],
   "source": [
    "import os\n",
    "os.chdir(\"..\")\n"
   ]
  },
  {
   "cell_type": "code",
   "execution_count": 4,
   "metadata": {},
   "outputs": [
    {
     "name": "stdout",
     "output_type": "stream",
     "text": [
      "temporal model loaded!\n"
     ]
    },
    {
     "name": "stderr",
     "output_type": "stream",
     "text": [
      "100%|██████████| 50/50 [00:00<00:00, 70.83it/s]"
     ]
    },
    {
     "name": "stdout",
     "output_type": "stream",
     "text": [
      "\n",
      "\n",
      "Final Training loss: 0.00012797364165418825\n",
      "Final Validation loss: 0.002182203345000744\n",
      "Test MSE: 0.00027254471206106246\n",
      "Test MAE: 0.014901455491781235\n",
      "Test RMSE: 0.016508927568793297\n",
      "Test MSE: 0.000126868617371656\n",
      "Test MAE: 0.00831321720033884\n",
      "Test RMSE: 0.011263596825301647\n"
     ]
    },
    {
     "name": "stderr",
     "output_type": "stream",
     "text": [
      "\n"
     ]
    }
   ],
   "source": [
    "import torch\n",
    "from epilearn.models.Temporal import DlinearModel\n",
    "from epilearn.data import UniversalDataset\n",
    "from epilearn.tasks.forecast import Forecast\n",
    "from epilearn.utils import transforms\n",
    "\n",
    "lookback = 16 # inputs size\n",
    "horizon = 1 # predicts size\n",
    "\n",
    "dataset = UniversalDataset(name='JHU_covid', root='./tmp/')\n",
    "inputs = dataset.x[0,:].unsqueeze(1)\n",
    "\n",
    "dataset = UniversalDataset(x=inputs, y=inputs)\n",
    "\n",
    "transformation = transforms.Compose({\n",
    "                \"features\": [transforms.normalize_feat()],\n",
    "                \"target\": [transforms.normalize_feat()]\n",
    "                })\n",
    "dataset.transforms = transformation\n",
    "\n",
    "task = Forecast(prototype=DlinearModel,\n",
    "                    dataset=None,\n",
    "                    lookback=lookback,\n",
    "                    horizon=horizon,\n",
    "                    device='cpu')\n",
    "\n",
    "result = task.train_model(dataset=dataset,\n",
    "                        loss='mse',\n",
    "                        epochs=50,\n",
    "                        batch_size=16,\n",
    "                        train_rate=0.6,\n",
    "                        val_rate=0.1,\n",
    "                        permute_dataset=False,\n",
    "                        )\n",
    "\n",
    "eval_result = task.evaluate_model(model=task.model,\n",
    "                                 features=task.train_split['features'],\n",
    "                                 targets=task.train_split['targets'])\n"
   ]
  },
  {
   "cell_type": "code",
   "execution_count": 5,
   "metadata": {},
   "outputs": [
    {
     "data": {
      "image/png": "[encoded data removed]",
      "text/plain": [
       "<Figure size 633.5x500 with 1 Axes>"
      ]
     },
     "metadata": {},
     "output_type": "display_data"
    }
   ],
   "source": [
    "forecasts = task.plot_forecasts(task.train_dataset, index_range=[0, -1])"
   ]
  },
  {
   "cell_type": "code",
   "execution_count": 5,
   "metadata": {},
   "outputs": [
    {
     "name": "stdout",
     "output_type": "stream",
     "text": [
      "spatial model loaded!\n"
     ]
    },
    {
     "name": "stderr",
     "output_type": "stream",
     "text": [
      "100%|██████████| 25/25 [00:00<00:00, 219.75it/s]\n"
     ]
    },
    {
     "name": "stdout",
     "output_type": "stream",
     "text": [
      "\n",
      "Final Training loss: 0.6882733106613159\n",
      "Final Validation loss: 0.7059842944145203\n",
      "\n",
      "Predicting Progress...\n"
     ]
    },
    {
     "name": "stderr",
     "output_type": "stream",
     "text": [
      "100%|██████████| 3/3 [00:00<00:00, 662.40it/s]\n"
     ]
    },
    {
     "name": "stdout",
     "output_type": "stream",
     "text": [
      "Test ACC: 0.5177304744720459\n",
      "\n",
      "Predicting Progress...\n"
     ]
    },
    {
     "name": "stderr",
     "output_type": "stream",
     "text": [
      "100%|██████████| 6/6 [00:00<00:00, 569.43it/s]"
     ]
    },
    {
     "name": "stdout",
     "output_type": "stream",
     "text": [
      "ACC: 0.5390070676803589\n"
     ]
    },
    {
     "name": "stderr",
     "output_type": "stream",
     "text": [
      "\n"
     ]
    }
   ],
   "source": [
    "import torch\n",
    "from epilearn.tasks.detection import Detection\n",
    "from epilearn.models.Spatial.GCN import GCN\n",
    "\n",
    "graph = torch.round(torch.rand((47, 47))) # nodes, nodes\n",
    "features = torch.round(torch.rand((10,47,1,4))) # batch, nodes, time steps=1, channels\n",
    "node_target = torch.round(torch.rand((10,47))) # batch, nodes\n",
    "\n",
    "dataset = UniversalDataset(x=features,y=node_target,graph=graph)\n",
    "\n",
    "lookback = 1 # inputs size\n",
    "horizon = 2 # predicts size; also seen as number of classes\n",
    "\n",
    "dataset.transforms = None\n",
    "task = Detection(prototype=GCN, dataset=dataset, lookback=lookback, horizon=horizon, device='cpu')\n",
    "\n",
    "# model_args={\"num_features\": 4, \"hidden_dim\": 16, \"num_classes\": 2, \"nlayers\": 2, \"dropout\": 0.5,\n",
    "#             \"with_bn\": False, \"with_bias\": True, \"device\": 'cpu'}\n",
    "\n",
    "result = task.train_model(dataset=dataset, \n",
    "                          loss='ce', \n",
    "                          epochs=25,\n",
    "                          train_rate=0.6,\n",
    "                          val_rate=0.1,\n",
    "                          permute_dataset=False,\n",
    "                        #   model_args=model_args\n",
    "                          )\n",
    "\n",
    "train_evaluation = task.evaluate_model(model=task.model,\n",
    "                                features=task.train_split['features'],\n",
    "                                graph=task.adj, \n",
    "                                dynamic_graph= task.train_split['dynamic_graph'], \n",
    "                                states=task.train_split['states'], \n",
    "                                targets=task.train_split['targets'])"
   ]
  },
  {
   "cell_type": "code",
   "execution_count": null,
   "metadata": {},
   "outputs": [],
   "source": []
  }
 ],
 "metadata": {
  "kernelspec": {
   "display_name": "epilearn",
   "language": "python",
   "name": "python3"
  },
  "language_info": {
   "codemirror_mode": {
    "name": "ipython",
    "version": 3
   },
   "file_extension": ".py",
   "mimetype": "text/x-python",
   "name": "python",
   "nbconvert_exporter": "python",
   "pygments_lexer": "ipython3",
   "version": "3.9.19"
  }
 },
 "nbformat": 4,
 "nbformat_minor": 2
}
